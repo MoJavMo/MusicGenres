{
 "cells": [
  {
   "cell_type": "code",
   "execution_count": 1,
   "id": "f2a4f62b",
   "metadata": {},
   "outputs": [],
   "source": [
    "import pandas as pd\n",
    "import matplotlib.pyplot as plt\n",
    "import seaborn as sns \n",
    "import numpy as np\n",
    "from sklearn import preprocessing\n",
    "import warnings\n",
    "warnings.filterwarnings(\"ignore\")"
   ]
  },
  {
   "cell_type": "code",
   "execution_count": 2,
   "id": "d04de6c4",
   "metadata": {},
   "outputs": [],
   "source": [
    "#loading training data\n",
    "all_genres_data = pd.read_csv('~/Downloads/COMP309A3-Data/allGenres.csv', index_col=0)"
   ]
  },
  {
   "cell_type": "code",
   "execution_count": 3,
   "id": "32f9472d",
   "metadata": {},
   "outputs": [],
   "source": [
    "#importing testing data\n",
    "unlabelled_data = pd.read_csv('~/Downloads/COMP309A3-Data/testing-instances.csv', index_col=0)"
   ]
  },
  {
   "cell_type": "code",
   "execution_count": 4,
   "id": "f73e90e6",
   "metadata": {},
   "outputs": [],
   "source": [
    "#replace the undefined values with NaN\n",
    "all_genres_data.replace('?', np.nan, inplace=True)\n",
    "all_genres_data[\"duration_ms\"].replace(-1, np.nan, inplace=True)\n",
    "\n",
    "unlabelled_data.replace('?', np.nan, inplace=True)\n",
    "unlabelled_data[\"duration_ms\"].replace(-1, np.nan, inplace=True)"
   ]
  },
  {
   "cell_type": "code",
   "execution_count": 5,
   "id": "f59412a2",
   "metadata": {},
   "outputs": [],
   "source": [
    "#create new attribute\n",
    "all_genres_data['Number in track_name'] = ''\n",
    "unlabelled_data['Number in track_name'] = ''"
   ]
  },
  {
   "cell_type": "code",
   "execution_count": 6,
   "id": "5e314971",
   "metadata": {},
   "outputs": [],
   "source": [
    "#function to find if a string contain numbers\n",
    "def has_digits(str):\n",
    "    return any(char.isdigit() for char in str)"
   ]
  },
  {
   "cell_type": "code",
   "execution_count": 7,
   "id": "37161787",
   "metadata": {},
   "outputs": [],
   "source": [
    "#fill the newly created attributed using the function from last cell\n",
    "for i, name in all_genres_data['track_name'].iteritems():\n",
    "    all_genres_data.at[i,'Number in track_name']=has_digits(name)\n",
    "    \n",
    "for i, name in unlabelled_data['track_name'].iteritems():\n",
    "    unlabelled_data.at[i,'Number in track_name']=has_digits(name)"
   ]
  },
  {
   "cell_type": "code",
   "execution_count": 8,
   "id": "95536ef2",
   "metadata": {},
   "outputs": [],
   "source": [
    "#create new attribute\n",
    "all_genres_data['Japanese caharacter in artist_name'] = ''\n",
    "unlabelled_data['Japanese caharacter in artist_name'] = ''"
   ]
  },
  {
   "cell_type": "code",
   "execution_count": 9,
   "id": "d2076c86",
   "metadata": {},
   "outputs": [],
   "source": [
    "#function to find if a string contain japanese alphabets\n",
    "import re\n",
    "pattern = \"[\\u3040-\\u30ff\\u3400-\\u4dbf\\u4e00-\\u9fff\\uf900-\\ufaff\\uff66-\\uff9f]\"\n",
    "def has_jap_char(str):\n",
    "    if(re.search(pattern, str)):\n",
    "        return True\n",
    "    else:\n",
    "        return False"
   ]
  },
  {
   "cell_type": "code",
   "execution_count": 10,
   "id": "09ec642d",
   "metadata": {},
   "outputs": [],
   "source": [
    "#fill the newly created attributed using the function from last cell\n",
    "for i, name in all_genres_data['artist_name'].iteritems():\n",
    "    all_genres_data.at[i,'Japanese caharacter in artist_name']=has_jap_char(name)\n",
    "    \n",
    "for i, name in unlabelled_data['artist_name'].iteritems():\n",
    "    unlabelled_data.at[i,'Japanese caharacter in artist_name']=has_jap_char(name)"
   ]
  },
  {
   "cell_type": "code",
   "execution_count": 11,
   "id": "0abc9111",
   "metadata": {
    "scrolled": true
   },
   "outputs": [],
   "source": [
    "#remove unnecessary attributes\n",
    "all_genres_data.drop(['track_hash', 'obtained_date', 'Genre', 'track_name','artist_name'], axis=1, inplace=True)\n",
    "unlabelled_data.drop(['track_hash', 'obtained_date', 'track_name','artist_name'], axis=1, inplace=True)"
   ]
  },
  {
   "cell_type": "code",
   "execution_count": 12,
   "id": "013eb9cf",
   "metadata": {},
   "outputs": [],
   "source": [
    "#create the x and y and training and testing data from the data with samples\n",
    "X=all_genres_data[all_genres_data.columns[:-3]]\n",
    "X['Number in track_name'] = all_genres_data['Number in track_name']\n",
    "X['Japanese caharacter in artist_name'] = all_genres_data['Japanese caharacter in artist_name']\n",
    "y=all_genres_data[all_genres_data.columns[-3]]\n",
    "\n",
    "from sklearn.model_selection import train_test_split\n",
    "X_train, X_test, y_train, y_test = train_test_split(X, y, test_size=0.3, random_state=1, stratify=y)"
   ]
  },
  {
   "cell_type": "code",
   "execution_count": 13,
   "id": "f6222cd4",
   "metadata": {},
   "outputs": [],
   "source": [
    "#encode the categorial attributes using label encoder\n",
    "from sklearn.preprocessing import LabelEncoder\n",
    "\n",
    "preprocessed_X_train = X_train.copy()\n",
    "\n",
    "encoder1 = LabelEncoder()\n",
    "preprocessed_X_train['key'] = encoder1.fit_transform(preprocessed_X_train['key'].values.reshape(-1,1))\n",
    "\n",
    "encoder2 = LabelEncoder()\n",
    "preprocessed_X_train['mode'] = encoder2.fit_transform(preprocessed_X_train['mode'].values.reshape(-1,1))\n",
    "\n",
    "encoder3 = LabelEncoder()\n",
    "preprocessed_X_train['Number in track_name'] = encoder3.fit_transform(preprocessed_X_train['Number in track_name'].values.reshape(-1,1))\n",
    "\n",
    "encoder4 = LabelEncoder()\n",
    "preprocessed_X_train['Japanese caharacter in artist_name'] = encoder4.fit_transform(preprocessed_X_train['Japanese caharacter in artist_name'].values.reshape(-1,1))"
   ]
  },
  {
   "cell_type": "code",
   "execution_count": 14,
   "id": "91614905",
   "metadata": {},
   "outputs": [],
   "source": [
    "#impute the missing values using KNN imputer\n",
    "from sklearn.impute import KNNImputer\n",
    "\n",
    "imputer = KNNImputer()\n",
    "preprocessed_X_train = imputer.fit_transform(preprocessed_X_train)\n",
    "\n",
    "preprocessed_X_train = pd.DataFrame(preprocessed_X_train, columns = X_train.columns)"
   ]
  },
  {
   "cell_type": "code",
   "execution_count": 15,
   "id": "1e4d3bfa",
   "metadata": {},
   "outputs": [],
   "source": [
    "#normalize the data using standard scaler\n",
    "from sklearn.preprocessing import StandardScaler\n",
    "\n",
    "scaler=StandardScaler()\n",
    "\n",
    "preprocessed_X_train = scaler.fit_transform(preprocessed_X_train)\n",
    "\n",
    "preprocessed_X_train = pd.DataFrame(preprocessed_X_train, columns = X_train.columns)"
   ]
  },
  {
   "cell_type": "code",
   "execution_count": 16,
   "id": "ae42ba27",
   "metadata": {},
   "outputs": [],
   "source": [
    "#do all 3 above steps on the testing data generated from the sample data\n",
    "preprocessed_X_test = X_test.copy()\n",
    "preprocessed_X_test['key'] = encoder1.transform(preprocessed_X_test['key'].values.reshape(-1,1))\n",
    "preprocessed_X_test['mode'] = encoder2.transform(preprocessed_X_test['mode'].values.reshape(-1,1))\n",
    "preprocessed_X_test['Number in track_name'] = encoder3.transform(preprocessed_X_test['Number in track_name'].values.reshape(-1,1))\n",
    "preprocessed_X_test['Japanese caharacter in artist_name'] = encoder4.transform(preprocessed_X_test['Japanese caharacter in artist_name'].values.reshape(-1,1))\n",
    "preprocessed_X_test = imputer.transform(preprocessed_X_test)\n",
    "preprocessed_X_test = pd.DataFrame(preprocessed_X_test, columns = X_test.columns)\n",
    "preprocessed_X_test = scaler.transform(preprocessed_X_test)\n",
    "preprocessed_X_test = pd.DataFrame(preprocessed_X_test, columns = X_test.columns)"
   ]
  },
  {
   "cell_type": "code",
   "execution_count": 17,
   "id": "146c95e0",
   "metadata": {},
   "outputs": [],
   "source": [
    "#do all 3 above steps on the unlabelled testing data \n",
    "prediction_X = unlabelled_data.copy()\n",
    "prediction_X['key'] = encoder1.transform(prediction_X['key'].values.reshape(-1,1))\n",
    "prediction_X['mode'] = encoder2.transform(prediction_X['mode'].values.reshape(-1,1))\n",
    "prediction_X['Number in track_name'] = encoder3.transform(prediction_X['Number in track_name'].values.reshape(-1,1))\n",
    "prediction_X['Japanese caharacter in artist_name'] = encoder4.transform(prediction_X['Japanese caharacter in artist_name'].values.reshape(-1,1))\n",
    "prediction_X = imputer.transform(prediction_X)\n",
    "prediction_X = pd.DataFrame(prediction_X, columns = unlabelled_data.columns)\n",
    "prediction_X = scaler.transform(prediction_X)\n",
    "prediction_X = pd.DataFrame(prediction_X, columns = unlabelled_data.columns)"
   ]
  },
  {
   "cell_type": "code",
   "execution_count": null,
   "id": "5b9a5d81",
   "metadata": {},
   "outputs": [],
   "source": []
  },
  {
   "cell_type": "code",
   "execution_count": 18,
   "id": "8c142b5d",
   "metadata": {},
   "outputs": [],
   "source": [
    "#train the data using different classification steps and print the score on the labelled testing data\n",
    "from sklearn.metrics import accuracy_score"
   ]
  },
  {
   "cell_type": "code",
   "execution_count": 19,
   "id": "7636e7aa",
   "metadata": {},
   "outputs": [
    {
     "name": "stdout",
     "output_type": "stream",
     "text": [
      "Accuracy =  0.5850666666666666\n"
     ]
    }
   ],
   "source": [
    "#MLP classifier\n",
    "from sklearn.neural_network import MLPClassifier\n",
    "clf = MLPClassifier(alpha=1e-10) \n",
    "clf.fit(preprocessed_X_train, y_train)\n",
    "print(\"Accuracy = \", accuracy_score(clf.predict(preprocessed_X_test), y_test))"
   ]
  },
  {
   "cell_type": "code",
   "execution_count": 20,
   "id": "874a9779",
   "metadata": {},
   "outputs": [
    {
     "data": {
      "text/html": [
       "<div>\n",
       "<style scoped>\n",
       "    .dataframe tbody tr th:only-of-type {\n",
       "        vertical-align: middle;\n",
       "    }\n",
       "\n",
       "    .dataframe tbody tr th {\n",
       "        vertical-align: top;\n",
       "    }\n",
       "\n",
       "    .dataframe thead th {\n",
       "        text-align: right;\n",
       "    }\n",
       "</style>\n",
       "<table border=\"1\" class=\"dataframe\">\n",
       "  <thead>\n",
       "    <tr style=\"text-align: right;\">\n",
       "      <th></th>\n",
       "      <th>0</th>\n",
       "    </tr>\n",
       "  </thead>\n",
       "  <tbody>\n",
       "    <tr>\n",
       "      <th>Anime</th>\n",
       "      <td>1</td>\n",
       "    </tr>\n",
       "    <tr>\n",
       "      <th>Electronic</th>\n",
       "      <td>2</td>\n",
       "    </tr>\n",
       "    <tr>\n",
       "      <th>Classical</th>\n",
       "      <td>3</td>\n",
       "    </tr>\n",
       "    <tr>\n",
       "      <th>Alternative</th>\n",
       "      <td>4</td>\n",
       "    </tr>\n",
       "    <tr>\n",
       "      <th>Jazz</th>\n",
       "      <td>5</td>\n",
       "    </tr>\n",
       "    <tr>\n",
       "      <th>...</th>\n",
       "      <td>...</td>\n",
       "    </tr>\n",
       "    <tr>\n",
       "      <th>Rap</th>\n",
       "      <td>19996</td>\n",
       "    </tr>\n",
       "    <tr>\n",
       "      <th>Electronic</th>\n",
       "      <td>19997</td>\n",
       "    </tr>\n",
       "    <tr>\n",
       "      <th>Alternative</th>\n",
       "      <td>19998</td>\n",
       "    </tr>\n",
       "    <tr>\n",
       "      <th>Anime</th>\n",
       "      <td>19999</td>\n",
       "    </tr>\n",
       "    <tr>\n",
       "      <th>Hip-Hop</th>\n",
       "      <td>20000</td>\n",
       "    </tr>\n",
       "  </tbody>\n",
       "</table>\n",
       "<p>20000 rows × 1 columns</p>\n",
       "</div>"
      ],
      "text/plain": [
       "                 0\n",
       "Anime            1\n",
       "Electronic       2\n",
       "Classical        3\n",
       "Alternative      4\n",
       "Jazz             5\n",
       "...            ...\n",
       "Rap          19996\n",
       "Electronic   19997\n",
       "Alternative  19998\n",
       "Anime        19999\n",
       "Hip-Hop      20000\n",
       "\n",
       "[20000 rows x 1 columns]"
      ]
     },
     "metadata": {},
     "output_type": "display_data"
    }
   ],
   "source": [
    "#Saving the prediciton to a csv file for submission\n",
    "prediction_y = clf.predict(prediction_X)\n",
    "prediction = pd.DataFrame(prediction_X.index+1,prediction_y)\n",
    "display(prediction)\n",
    "prediction.to_csv('answer.csv')"
   ]
  }
 ],
 "metadata": {
  "kernelspec": {
   "display_name": "Python 3",
   "language": "python",
   "name": "python3"
  },
  "language_info": {
   "codemirror_mode": {
    "name": "ipython",
    "version": 3
   },
   "file_extension": ".py",
   "mimetype": "text/x-python",
   "name": "python",
   "nbconvert_exporter": "python",
   "pygments_lexer": "ipython3",
   "version": "3.8.8"
  }
 },
 "nbformat": 4,
 "nbformat_minor": 5
}
