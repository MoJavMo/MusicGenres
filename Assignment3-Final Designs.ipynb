{
 "cells": [
  {
   "cell_type": "code",
   "execution_count": null,
   "id": "f2a4f62b",
   "metadata": {},
   "outputs": [],
   "source": [
    "import pandas as pd\n",
    "import matplotlib.pyplot as plt\n",
    "import seaborn as sns \n",
    "import numpy as np\n",
    "from sklearn import preprocessing\n",
    "import warnings\n",
    "warnings.filterwarnings(\"ignore\")"
   ]
  },
  {
   "cell_type": "code",
   "execution_count": null,
   "id": "d04de6c4",
   "metadata": {},
   "outputs": [],
   "source": [
    "#loading training data\n",
    "all_genres_data = pd.read_csv('~/Downloads/COMP309A3-Data/allGenres.csv', index_col=0)"
   ]
  },
  {
   "cell_type": "code",
   "execution_count": 3,
   "id": "32f9472d",
   "metadata": {},
   "outputs": [],
   "source": [
    "#importing testing data\n",
    "unlabelled_data = pd.read_csv('~/Downloads/COMP309A3-Data/testing-instances.csv', index_col=0)"
   ]
  },
  {
   "cell_type": "code",
   "execution_count": 4,
   "id": "f73e90e6",
   "metadata": {},
   "outputs": [],
   "source": [
    "#replace the undefined values with NaN\n",
    "all_genres_data.replace('?', np.nan, inplace=True)\n",
    "all_genres_data[\"duration_ms\"].replace(-1, np.nan, inplace=True)\n",
    "\n",
    "unlabelled_data.replace('?', np.nan, inplace=True)\n",
    "unlabelled_data[\"duration_ms\"].replace(-1, np.nan, inplace=True)"
   ]
  },
  {
   "cell_type": "code",
   "execution_count": 5,
   "id": "f59412a2",
   "metadata": {},
   "outputs": [],
   "source": [
    "#create new attribute\n",
    "all_genres_data['Number in track_name'] = ''\n",
    "unlabelled_data['Number in track_name'] = ''"
   ]
  },
  {
   "cell_type": "code",
   "execution_count": 6,
   "id": "5e314971",
   "metadata": {},
   "outputs": [],
   "source": [
    "#function to find if a string contain numbers\n",
    "def has_digits(str):\n",
    "    return any(char.isdigit() for char in str)"
   ]
  },
  {
   "cell_type": "code",
   "execution_count": 7,
   "id": "37161787",
   "metadata": {},
   "outputs": [],
   "source": [
    "#fill the newly created attributed using the function from last cell\n",
    "for i, name in all_genres_data['track_name'].iteritems():\n",
    "    all_genres_data.at[i,'Number in track_name']=has_digits(name)\n",
    "    \n",
    "for i, name in unlabelled_data['track_name'].iteritems():\n",
    "    unlabelled_data.at[i,'Number in track_name']=has_digits(name)"
   ]
  },
  {
   "cell_type": "code",
   "execution_count": 8,
   "id": "95536ef2",
   "metadata": {},
   "outputs": [],
   "source": [
    "#create new attribute\n",
    "all_genres_data['Japanese caharacter in artist_name'] = ''\n",
    "unlabelled_data['Japanese caharacter in artist_name'] = ''"
   ]
  },
  {
   "cell_type": "code",
   "execution_count": 9,
   "id": "d2076c86",
   "metadata": {},
   "outputs": [],
   "source": [
    "#function to find if a string contain japanese alphabets\n",
    "import re\n",
    "pattern = \"[\\u3040-\\u30ff\\u3400-\\u4dbf\\u4e00-\\u9fff\\uf900-\\ufaff\\uff66-\\uff9f]\"\n",
    "def has_jap_char(str):\n",
    "    if(re.search(pattern, str)):\n",
    "        return True\n",
    "    else:\n",
    "        return False"
   ]
  },
  {
   "cell_type": "code",
   "execution_count": 10,
   "id": "09ec642d",
   "metadata": {},
   "outputs": [],
   "source": [
    "#fill the newly created attributed using the function from last cell\n",
    "for i, name in all_genres_data['artist_name'].iteritems():\n",
    "    all_genres_data.at[i,'Japanese caharacter in artist_name']=has_jap_char(name)\n",
    "    \n",
    "for i, name in unlabelled_data['artist_name'].iteritems():\n",
    "    unlabelled_data.at[i,'Japanese caharacter in artist_name']=has_jap_char(name)"
   ]
  },
  {
   "cell_type": "code",
   "execution_count": 11,
   "id": "0abc9111",
   "metadata": {
    "scrolled": true
   },
   "outputs": [],
   "source": [
    "#remove unnecessary attributes\n",
    "all_genres_data.drop(['track_hash', 'obtained_date', 'Genre', 'track_name','artist_name'], axis=1, inplace=True)\n",
    "unlabelled_data.drop(['track_hash', 'obtained_date', 'track_name','artist_name'], axis=1, inplace=True)"
   ]
  },
  {
   "cell_type": "code",
   "execution_count": 12,
   "id": "013eb9cf",
   "metadata": {},
   "outputs": [],
   "source": [
    "#create the x and y and training and testing data from the data with samples\n",
    "X=all_genres_data[all_genres_data.columns[:-3]]\n",
    "X['Number in track_name'] = all_genres_data['Number in track_name']\n",
    "X['Japanese caharacter in artist_name'] = all_genres_data['Japanese caharacter in artist_name']\n",
    "y=all_genres_data[all_genres_data.columns[-3]]\n",
    "\n",
    "from sklearn.model_selection import train_test_split\n",
    "X_train, X_test, y_train, y_test = train_test_split(X, y, test_size=0.3, random_state=1, stratify=y)"
   ]
  },
  {
   "cell_type": "code",
   "execution_count": 13,
   "id": "f6222cd4",
   "metadata": {},
   "outputs": [],
   "source": [
    "#encode the categorial attributes using label encoder\n",
    "from sklearn.preprocessing import LabelEncoder\n",
    "\n",
    "preprocessed_X_train = X_train.copy()\n",
    "\n",
    "encoder1 = LabelEncoder()\n",
    "preprocessed_X_train['key'] = encoder1.fit_transform(preprocessed_X_train['key'].values.reshape(-1,1))\n",
    "\n",
    "encoder2 = LabelEncoder()\n",
    "preprocessed_X_train['mode'] = encoder2.fit_transform(preprocessed_X_train['mode'].values.reshape(-1,1))\n",
    "\n",
    "encoder3 = LabelEncoder()\n",
    "preprocessed_X_train['Number in track_name'] = encoder3.fit_transform(preprocessed_X_train['Number in track_name'].values.reshape(-1,1))\n",
    "\n",
    "encoder4 = LabelEncoder()\n",
    "preprocessed_X_train['Japanese caharacter in artist_name'] = encoder4.fit_transform(preprocessed_X_train['Japanese caharacter in artist_name'].values.reshape(-1,1))"
   ]
  },
  {
   "cell_type": "code",
   "execution_count": 14,
   "id": "91614905",
   "metadata": {},
   "outputs": [],
   "source": [
    "#impute the missing values using KNN imputer\n",
    "from sklearn.impute import KNNImputer\n",
    "\n",
    "imputer = KNNImputer()\n",
    "preprocessed_X_train = imputer.fit_transform(preprocessed_X_train)\n",
    "\n",
    "preprocessed_X_train = pd.DataFrame(preprocessed_X_train, columns = X_train.columns)"
   ]
  },
  {
   "cell_type": "code",
   "execution_count": 15,
   "id": "1e4d3bfa",
   "metadata": {},
   "outputs": [
    {
     "data": {
      "text/html": [
       "<div>\n",
       "<style scoped>\n",
       "    .dataframe tbody tr th:only-of-type {\n",
       "        vertical-align: middle;\n",
       "    }\n",
       "\n",
       "    .dataframe tbody tr th {\n",
       "        vertical-align: top;\n",
       "    }\n",
       "\n",
       "    .dataframe thead th {\n",
       "        text-align: right;\n",
       "    }\n",
       "</style>\n",
       "<table border=\"1\" class=\"dataframe\">\n",
       "  <thead>\n",
       "    <tr style=\"text-align: right;\">\n",
       "      <th></th>\n",
       "      <th>popularity</th>\n",
       "      <th>acousticness</th>\n",
       "      <th>danceability</th>\n",
       "      <th>duration_ms</th>\n",
       "      <th>energy</th>\n",
       "      <th>instrumentalness</th>\n",
       "      <th>key</th>\n",
       "      <th>liveness</th>\n",
       "      <th>loudness</th>\n",
       "      <th>mode</th>\n",
       "      <th>speechiness</th>\n",
       "      <th>tempo</th>\n",
       "      <th>valence</th>\n",
       "      <th>Number in track_name</th>\n",
       "      <th>Japanese caharacter in artist_name</th>\n",
       "    </tr>\n",
       "  </thead>\n",
       "  <tbody>\n",
       "    <tr>\n",
       "      <th>0</th>\n",
       "      <td>0.564371</td>\n",
       "      <td>-0.897725</td>\n",
       "      <td>0.046255</td>\n",
       "      <td>-0.110160</td>\n",
       "      <td>1.091925</td>\n",
       "      <td>-0.531099</td>\n",
       "      <td>1.624957</td>\n",
       "      <td>0.604162</td>\n",
       "      <td>0.634543</td>\n",
       "      <td>-0.749535</td>\n",
       "      <td>-0.501281</td>\n",
       "      <td>0.234378</td>\n",
       "      <td>-1.275796</td>\n",
       "      <td>-0.360730</td>\n",
       "      <td>-0.0382</td>\n",
       "    </tr>\n",
       "    <tr>\n",
       "      <th>1</th>\n",
       "      <td>0.821074</td>\n",
       "      <td>0.674327</td>\n",
       "      <td>0.848079</td>\n",
       "      <td>0.131605</td>\n",
       "      <td>0.320641</td>\n",
       "      <td>-0.558988</td>\n",
       "      <td>-1.546245</td>\n",
       "      <td>0.240191</td>\n",
       "      <td>0.521798</td>\n",
       "      <td>1.334160</td>\n",
       "      <td>-0.585294</td>\n",
       "      <td>0.496462</td>\n",
       "      <td>0.826217</td>\n",
       "      <td>-0.360730</td>\n",
       "      <td>-0.0382</td>\n",
       "    </tr>\n",
       "    <tr>\n",
       "      <th>2</th>\n",
       "      <td>0.756898</td>\n",
       "      <td>-0.350370</td>\n",
       "      <td>-0.503246</td>\n",
       "      <td>-0.307808</td>\n",
       "      <td>1.035213</td>\n",
       "      <td>-0.558988</td>\n",
       "      <td>1.336666</td>\n",
       "      <td>-0.754251</td>\n",
       "      <td>0.759815</td>\n",
       "      <td>1.334160</td>\n",
       "      <td>0.058146</td>\n",
       "      <td>-1.364182</td>\n",
       "      <td>0.271351</td>\n",
       "      <td>-0.360730</td>\n",
       "      <td>-0.0382</td>\n",
       "    </tr>\n",
       "    <tr>\n",
       "      <th>3</th>\n",
       "      <td>-0.013211</td>\n",
       "      <td>0.217605</td>\n",
       "      <td>0.836865</td>\n",
       "      <td>-0.826373</td>\n",
       "      <td>0.214779</td>\n",
       "      <td>-0.558988</td>\n",
       "      <td>1.336666</td>\n",
       "      <td>-0.555609</td>\n",
       "      <td>0.022500</td>\n",
       "      <td>-0.749535</td>\n",
       "      <td>-0.555642</td>\n",
       "      <td>0.332316</td>\n",
       "      <td>1.620041</td>\n",
       "      <td>-0.360730</td>\n",
       "      <td>-0.0382</td>\n",
       "    </tr>\n",
       "    <tr>\n",
       "      <th>4</th>\n",
       "      <td>0.371844</td>\n",
       "      <td>0.012666</td>\n",
       "      <td>-1.148069</td>\n",
       "      <td>0.390692</td>\n",
       "      <td>-0.027193</td>\n",
       "      <td>-0.558988</td>\n",
       "      <td>-1.546245</td>\n",
       "      <td>-0.774609</td>\n",
       "      <td>-0.090244</td>\n",
       "      <td>-0.749535</td>\n",
       "      <td>-0.470641</td>\n",
       "      <td>-1.276809</td>\n",
       "      <td>0.129596</td>\n",
       "      <td>2.772159</td>\n",
       "      <td>-0.0382</td>\n",
       "    </tr>\n",
       "    <tr>\n",
       "      <th>...</th>\n",
       "      <td>...</td>\n",
       "      <td>...</td>\n",
       "      <td>...</td>\n",
       "      <td>...</td>\n",
       "      <td>...</td>\n",
       "      <td>...</td>\n",
       "      <td>...</td>\n",
       "      <td>...</td>\n",
       "      <td>...</td>\n",
       "      <td>...</td>\n",
       "      <td>...</td>\n",
       "      <td>...</td>\n",
       "      <td>...</td>\n",
       "      <td>...</td>\n",
       "      <td>...</td>\n",
       "    </tr>\n",
       "    <tr>\n",
       "      <th>34995</th>\n",
       "      <td>0.371844</td>\n",
       "      <td>-0.657193</td>\n",
       "      <td>0.393899</td>\n",
       "      <td>0.091153</td>\n",
       "      <td>-0.061220</td>\n",
       "      <td>0.772424</td>\n",
       "      <td>1.336666</td>\n",
       "      <td>0.641176</td>\n",
       "      <td>0.177382</td>\n",
       "      <td>-0.749535</td>\n",
       "      <td>-0.641632</td>\n",
       "      <td>-0.276711</td>\n",
       "      <td>-0.490072</td>\n",
       "      <td>-0.360730</td>\n",
       "      <td>-0.0382</td>\n",
       "    </tr>\n",
       "    <tr>\n",
       "      <th>34996</th>\n",
       "      <td>1.847886</td>\n",
       "      <td>-0.878205</td>\n",
       "      <td>0.057470</td>\n",
       "      <td>-0.452306</td>\n",
       "      <td>0.135382</td>\n",
       "      <td>-0.558988</td>\n",
       "      <td>-0.969663</td>\n",
       "      <td>-0.549440</td>\n",
       "      <td>0.789913</td>\n",
       "      <td>-0.749535</td>\n",
       "      <td>1.093976</td>\n",
       "      <td>-0.145163</td>\n",
       "      <td>1.713194</td>\n",
       "      <td>-0.360730</td>\n",
       "      <td>-0.0382</td>\n",
       "    </tr>\n",
       "    <tr>\n",
       "      <th>34997</th>\n",
       "      <td>0.243492</td>\n",
       "      <td>-0.897742</td>\n",
       "      <td>-1.809714</td>\n",
       "      <td>-0.570449</td>\n",
       "      <td>1.435978</td>\n",
       "      <td>-0.540354</td>\n",
       "      <td>0.471792</td>\n",
       "      <td>1.264244</td>\n",
       "      <td>0.551245</td>\n",
       "      <td>1.334160</td>\n",
       "      <td>0.024541</td>\n",
       "      <td>1.476041</td>\n",
       "      <td>0.591310</td>\n",
       "      <td>-0.360730</td>\n",
       "      <td>-0.0382</td>\n",
       "    </tr>\n",
       "    <tr>\n",
       "      <th>34998</th>\n",
       "      <td>-0.654969</td>\n",
       "      <td>1.599482</td>\n",
       "      <td>1.408795</td>\n",
       "      <td>-1.206824</td>\n",
       "      <td>-0.204890</td>\n",
       "      <td>1.716404</td>\n",
       "      <td>-0.969663</td>\n",
       "      <td>-0.561778</td>\n",
       "      <td>-0.785585</td>\n",
       "      <td>1.334160</td>\n",
       "      <td>-0.324360</td>\n",
       "      <td>-0.344041</td>\n",
       "      <td>-0.943686</td>\n",
       "      <td>-0.360730</td>\n",
       "      <td>-0.0382</td>\n",
       "    </tr>\n",
       "    <tr>\n",
       "      <th>34999</th>\n",
       "      <td>1.141953</td>\n",
       "      <td>-0.744439</td>\n",
       "      <td>1.812510</td>\n",
       "      <td>-0.550497</td>\n",
       "      <td>0.124040</td>\n",
       "      <td>-0.558967</td>\n",
       "      <td>-0.393081</td>\n",
       "      <td>-0.222484</td>\n",
       "      <td>0.402383</td>\n",
       "      <td>1.334160</td>\n",
       "      <td>-0.247265</td>\n",
       "      <td>0.060346</td>\n",
       "      <td>-0.490072</td>\n",
       "      <td>-0.360730</td>\n",
       "      <td>-0.0382</td>\n",
       "    </tr>\n",
       "  </tbody>\n",
       "</table>\n",
       "<p>35000 rows × 15 columns</p>\n",
       "</div>"
      ],
      "text/plain": [
       "       popularity  acousticness  danceability  duration_ms    energy  \\\n",
       "0        0.564371     -0.897725      0.046255    -0.110160  1.091925   \n",
       "1        0.821074      0.674327      0.848079     0.131605  0.320641   \n",
       "2        0.756898     -0.350370     -0.503246    -0.307808  1.035213   \n",
       "3       -0.013211      0.217605      0.836865    -0.826373  0.214779   \n",
       "4        0.371844      0.012666     -1.148069     0.390692 -0.027193   \n",
       "...           ...           ...           ...          ...       ...   \n",
       "34995    0.371844     -0.657193      0.393899     0.091153 -0.061220   \n",
       "34996    1.847886     -0.878205      0.057470    -0.452306  0.135382   \n",
       "34997    0.243492     -0.897742     -1.809714    -0.570449  1.435978   \n",
       "34998   -0.654969      1.599482      1.408795    -1.206824 -0.204890   \n",
       "34999    1.141953     -0.744439      1.812510    -0.550497  0.124040   \n",
       "\n",
       "       instrumentalness       key  liveness  loudness      mode  speechiness  \\\n",
       "0             -0.531099  1.624957  0.604162  0.634543 -0.749535    -0.501281   \n",
       "1             -0.558988 -1.546245  0.240191  0.521798  1.334160    -0.585294   \n",
       "2             -0.558988  1.336666 -0.754251  0.759815  1.334160     0.058146   \n",
       "3             -0.558988  1.336666 -0.555609  0.022500 -0.749535    -0.555642   \n",
       "4             -0.558988 -1.546245 -0.774609 -0.090244 -0.749535    -0.470641   \n",
       "...                 ...       ...       ...       ...       ...          ...   \n",
       "34995          0.772424  1.336666  0.641176  0.177382 -0.749535    -0.641632   \n",
       "34996         -0.558988 -0.969663 -0.549440  0.789913 -0.749535     1.093976   \n",
       "34997         -0.540354  0.471792  1.264244  0.551245  1.334160     0.024541   \n",
       "34998          1.716404 -0.969663 -0.561778 -0.785585  1.334160    -0.324360   \n",
       "34999         -0.558967 -0.393081 -0.222484  0.402383  1.334160    -0.247265   \n",
       "\n",
       "          tempo   valence  Number in track_name  \\\n",
       "0      0.234378 -1.275796             -0.360730   \n",
       "1      0.496462  0.826217             -0.360730   \n",
       "2     -1.364182  0.271351             -0.360730   \n",
       "3      0.332316  1.620041             -0.360730   \n",
       "4     -1.276809  0.129596              2.772159   \n",
       "...         ...       ...                   ...   \n",
       "34995 -0.276711 -0.490072             -0.360730   \n",
       "34996 -0.145163  1.713194             -0.360730   \n",
       "34997  1.476041  0.591310             -0.360730   \n",
       "34998 -0.344041 -0.943686             -0.360730   \n",
       "34999  0.060346 -0.490072             -0.360730   \n",
       "\n",
       "       Japanese caharacter in artist_name  \n",
       "0                                 -0.0382  \n",
       "1                                 -0.0382  \n",
       "2                                 -0.0382  \n",
       "3                                 -0.0382  \n",
       "4                                 -0.0382  \n",
       "...                                   ...  \n",
       "34995                             -0.0382  \n",
       "34996                             -0.0382  \n",
       "34997                             -0.0382  \n",
       "34998                             -0.0382  \n",
       "34999                             -0.0382  \n",
       "\n",
       "[35000 rows x 15 columns]"
      ]
     },
     "metadata": {},
     "output_type": "display_data"
    }
   ],
   "source": [
    "#normalize the data using standard scaler\n",
    "from sklearn.preprocessing import StandardScaler\n",
    "\n",
    "scaler=StandardScaler()\n",
    "\n",
    "preprocessed_X_train = scaler.fit_transform(preprocessed_X_train)\n",
    "\n",
    "preprocessed_X_train = pd.DataFrame(preprocessed_X_train, columns = X_train.columns)"
   ]
  },
  {
   "cell_type": "code",
   "execution_count": 16,
   "id": "ae42ba27",
   "metadata": {},
   "outputs": [],
   "source": [
    "#do all 3 above steps on the testing data generated from the sample data\n",
    "preprocessed_X_test = X_test.copy()\n",
    "preprocessed_X_test['key'] = encoder1.transform(preprocessed_X_test['key'].values.reshape(-1,1))\n",
    "preprocessed_X_test['mode'] = encoder2.transform(preprocessed_X_test['mode'].values.reshape(-1,1))\n",
    "preprocessed_X_test['Number in track_name'] = encoder3.transform(preprocessed_X_test['Number in track_name'].values.reshape(-1,1))\n",
    "preprocessed_X_test['Japanese caharacter in artist_name'] = encoder4.transform(preprocessed_X_test['Japanese caharacter in artist_name'].values.reshape(-1,1))\n",
    "preprocessed_X_test = imputer.transform(preprocessed_X_test)\n",
    "preprocessed_X_test = pd.DataFrame(preprocessed_X_test, columns = X_test.columns)\n",
    "preprocessed_X_test = scaler.transform(preprocessed_X_test)\n",
    "preprocessed_X_test = pd.DataFrame(preprocessed_X_test, columns = X_test.columns)"
   ]
  },
  {
   "cell_type": "code",
   "execution_count": 17,
   "id": "146c95e0",
   "metadata": {},
   "outputs": [],
   "source": [
    "#do all 3 above steps on the unlabelled testing data \n",
    "prediction_X = unlabelled_data.copy()\n",
    "prediction_X['key'] = encoder1.transform(prediction_X['key'].values.reshape(-1,1))\n",
    "prediction_X['mode'] = encoder2.transform(prediction_X['mode'].values.reshape(-1,1))\n",
    "prediction_X['Number in track_name'] = encoder3.transform(prediction_X['Number in track_name'].values.reshape(-1,1))\n",
    "prediction_X['Japanese caharacter in artist_name'] = encoder4.transform(prediction_X['Japanese caharacter in artist_name'].values.reshape(-1,1))\n",
    "prediction_X = imputer.transform(prediction_X)\n",
    "prediction_X = pd.DataFrame(prediction_X, columns = unlabelled_data.columns)\n",
    "prediction_X = scaler.transform(prediction_X)\n",
    "prediction_X = pd.DataFrame(prediction_X, columns = unlabelled_data.columns)"
   ]
  },
  {
   "cell_type": "code",
   "execution_count": null,
   "id": "5b9a5d81",
   "metadata": {},
   "outputs": [],
   "source": []
  },
  {
   "cell_type": "code",
   "execution_count": null,
   "id": "8c142b5d",
   "metadata": {},
   "outputs": [],
   "source": [
    "#train the data using different classification steps and print the score on the labelled testing data\n",
    "from sklearn.metrics import accuracy_score"
   ]
  },
  {
   "cell_type": "code",
   "execution_count": 23,
   "id": "1ced1c9e",
   "metadata": {},
   "outputs": [
    {
     "name": "stdout",
     "output_type": "stream",
     "text": [
      "Accuracy =  0.5235333333333333\n"
     ]
    }
   ],
   "source": [
    "#Descision Tree\n",
    "from sklearn.tree import DecisionTreeClassifier\n",
    "clf = DecisionTreeClassifier(max_depth=9) \n",
    "clf.fit(preprocessed_X_train, y_train)\n",
    "print(\"Accuracy = \", accuracy_score(clf.predict(preprocessed_X_test), y_test))"
   ]
  },
  {
   "cell_type": "code",
   "execution_count": 24,
   "id": "63a2efa5",
   "metadata": {},
   "outputs": [
    {
     "name": "stdout",
     "output_type": "stream",
     "text": [
      "Accuracy =  0.5767333333333333\n"
     ]
    }
   ],
   "source": [
    "#Gradient Boosting\n",
    "from sklearn.ensemble import GradientBoostingClassifier\n",
    "clf = GradientBoostingClassifier(max_depth=5) \n",
    "clf.fit(preprocessed_X_train, y_train)\n",
    "print(\"Accuracy = \", accuracy_score(clf.predict(preprocessed_X_test), y_test))"
   ]
  },
  {
   "cell_type": "code",
   "execution_count": 25,
   "id": "4bb9d5dd",
   "metadata": {},
   "outputs": [
    {
     "name": "stdout",
     "output_type": "stream",
     "text": [
      "Accuracy =  0.57\n"
     ]
    }
   ],
   "source": [
    "#Random forest\n",
    "from sklearn.ensemble import RandomForestClassifier\n",
    "clf = RandomForestClassifier(max_depth=11) \n",
    "clf.fit(preprocessed_X_train, y_train)\n",
    "print(\"Accuracy = \", accuracy_score(clf.predict(preprocessed_X_test), y_test))"
   ]
  },
  {
   "cell_type": "code",
   "execution_count": 79,
   "id": "7636e7aa",
   "metadata": {},
   "outputs": [
    {
     "name": "stdout",
     "output_type": "stream",
     "text": [
      "Accuracy =  0.5844666666666667\n"
     ]
    }
   ],
   "source": [
    "#MLP classifier\n",
    "from sklearn.neural_network import MLPClassifier\n",
    "clf = MLPClassifier(alpha=1e-10) \n",
    "clf.fit(preprocessed_X_train, y_train)\n",
    "print(\"Accuracy = \", accuracy_score(clf.predict(preprocessed_X_test), y_test))"
   ]
  },
  {
   "cell_type": "code",
   "execution_count": 27,
   "id": "502c6134",
   "metadata": {},
   "outputs": [
    {
     "name": "stdout",
     "output_type": "stream",
     "text": [
      "Accuracy =  0.5371333333333334\n"
     ]
    }
   ],
   "source": [
    "#logistic regression\n",
    "from sklearn.linear_model import LogisticRegression\n",
    "clf = LogisticRegression(C=20) \n",
    "clf.fit(preprocessed_X_train, y_train)\n",
    "print(\"Accuracy = \", accuracy_score(clf.predict(preprocessed_X_test), y_test))"
   ]
  },
  {
   "cell_type": "code",
   "execution_count": 28,
   "id": "beb50c5c",
   "metadata": {},
   "outputs": [
    {
     "name": "stdout",
     "output_type": "stream",
     "text": [
      "Accuracy =  0.408\n"
     ]
    }
   ],
   "source": [
    "#gaussian nb\n",
    "from sklearn.naive_bayes import GaussianNB\n",
    "clf = GaussianNB(var_smoothing=0.1)\n",
    "clf.fit(preprocessed_X_train, y_train)\n",
    "print(\"Accuracy = \", accuracy_score(clf.predict(preprocessed_X_test), y_test))"
   ]
  },
  {
   "cell_type": "code",
   "execution_count": null,
   "id": "429e9010",
   "metadata": {},
   "outputs": [],
   "source": []
  },
  {
   "cell_type": "code",
   "execution_count": null,
   "id": "511044dd",
   "metadata": {},
   "outputs": [],
   "source": []
  },
  {
   "cell_type": "code",
   "execution_count": null,
   "id": "5c350051",
   "metadata": {},
   "outputs": [],
   "source": []
  },
  {
   "cell_type": "code",
   "execution_count": null,
   "id": "c36d726d",
   "metadata": {},
   "outputs": [],
   "source": []
  },
  {
   "cell_type": "code",
   "execution_count": null,
   "id": "ebabd568",
   "metadata": {},
   "outputs": [],
   "source": []
  },
  {
   "cell_type": "code",
   "execution_count": 30,
   "id": "80e648bc",
   "metadata": {
    "scrolled": false
   },
   "outputs": [
    {
     "data": {
      "text/html": [
       "<div>\n",
       "<style scoped>\n",
       "    .dataframe tbody tr th:only-of-type {\n",
       "        vertical-align: middle;\n",
       "    }\n",
       "\n",
       "    .dataframe tbody tr th {\n",
       "        vertical-align: top;\n",
       "    }\n",
       "\n",
       "    .dataframe thead th {\n",
       "        text-align: right;\n",
       "    }\n",
       "</style>\n",
       "<table border=\"1\" class=\"dataframe\">\n",
       "  <thead>\n",
       "    <tr style=\"text-align: right;\">\n",
       "      <th></th>\n",
       "      <th>pc1</th>\n",
       "      <th>pc2</th>\n",
       "      <th>pc3</th>\n",
       "      <th>pc4</th>\n",
       "      <th>pc5</th>\n",
       "      <th>pc6</th>\n",
       "      <th>pc7</th>\n",
       "      <th>pc8</th>\n",
       "      <th>pc9</th>\n",
       "      <th>pc10</th>\n",
       "      <th>pc10</th>\n",
       "      <th>pc12</th>\n",
       "    </tr>\n",
       "  </thead>\n",
       "  <tbody>\n",
       "    <tr>\n",
       "      <th>0</th>\n",
       "      <td>-1.196388</td>\n",
       "      <td>1.011413</td>\n",
       "      <td>-0.708417</td>\n",
       "      <td>1.190551</td>\n",
       "      <td>-0.707192</td>\n",
       "      <td>1.259696</td>\n",
       "      <td>0.395907</td>\n",
       "      <td>0.220195</td>\n",
       "      <td>-0.889885</td>\n",
       "      <td>-0.203701</td>\n",
       "      <td>-0.315645</td>\n",
       "      <td>-0.528016</td>\n",
       "    </tr>\n",
       "    <tr>\n",
       "      <th>1</th>\n",
       "      <td>-1.026187</td>\n",
       "      <td>-0.515279</td>\n",
       "      <td>0.905952</td>\n",
       "      <td>-1.410787</td>\n",
       "      <td>0.083234</td>\n",
       "      <td>-0.901715</td>\n",
       "      <td>-0.263673</td>\n",
       "      <td>0.078458</td>\n",
       "      <td>0.259970</td>\n",
       "      <td>-1.093910</td>\n",
       "      <td>1.116392</td>\n",
       "      <td>-0.096906</td>\n",
       "    </tr>\n",
       "    <tr>\n",
       "      <th>2</th>\n",
       "      <td>-1.099140</td>\n",
       "      <td>-0.560536</td>\n",
       "      <td>-0.090503</td>\n",
       "      <td>-0.354540</td>\n",
       "      <td>-0.369900</td>\n",
       "      <td>1.843396</td>\n",
       "      <td>-0.864509</td>\n",
       "      <td>0.004460</td>\n",
       "      <td>-0.799378</td>\n",
       "      <td>-0.689311</td>\n",
       "      <td>-0.827599</td>\n",
       "      <td>0.528619</td>\n",
       "    </tr>\n",
       "    <tr>\n",
       "      <th>3</th>\n",
       "      <td>-0.977958</td>\n",
       "      <td>-0.667145</td>\n",
       "      <td>-2.051049</td>\n",
       "      <td>0.458959</td>\n",
       "      <td>0.217149</td>\n",
       "      <td>0.012992</td>\n",
       "      <td>-0.642503</td>\n",
       "      <td>-0.832804</td>\n",
       "      <td>0.556027</td>\n",
       "      <td>-0.256149</td>\n",
       "      <td>0.424942</td>\n",
       "      <td>0.176050</td>\n",
       "    </tr>\n",
       "    <tr>\n",
       "      <th>4</th>\n",
       "      <td>1.222311</td>\n",
       "      <td>-0.112041</td>\n",
       "      <td>0.203597</td>\n",
       "      <td>0.068124</td>\n",
       "      <td>-0.289260</td>\n",
       "      <td>-1.448974</td>\n",
       "      <td>0.026956</td>\n",
       "      <td>1.646550</td>\n",
       "      <td>0.766665</td>\n",
       "      <td>-1.543066</td>\n",
       "      <td>-2.232970</td>\n",
       "      <td>0.535390</td>\n",
       "    </tr>\n",
       "    <tr>\n",
       "      <th>...</th>\n",
       "      <td>...</td>\n",
       "      <td>...</td>\n",
       "      <td>...</td>\n",
       "      <td>...</td>\n",
       "      <td>...</td>\n",
       "      <td>...</td>\n",
       "      <td>...</td>\n",
       "      <td>...</td>\n",
       "      <td>...</td>\n",
       "      <td>...</td>\n",
       "      <td>...</td>\n",
       "      <td>...</td>\n",
       "    </tr>\n",
       "    <tr>\n",
       "      <th>34995</th>\n",
       "      <td>-0.131225</td>\n",
       "      <td>0.416822</td>\n",
       "      <td>-0.799778</td>\n",
       "      <td>0.821790</td>\n",
       "      <td>-0.390009</td>\n",
       "      <td>0.853042</td>\n",
       "      <td>-0.480115</td>\n",
       "      <td>0.236524</td>\n",
       "      <td>-0.481117</td>\n",
       "      <td>0.369903</td>\n",
       "      <td>0.100377</td>\n",
       "      <td>-1.252491</td>\n",
       "    </tr>\n",
       "    <tr>\n",
       "      <th>34996</th>\n",
       "      <td>-2.126505</td>\n",
       "      <td>-1.266956</td>\n",
       "      <td>-0.077288</td>\n",
       "      <td>0.120613</td>\n",
       "      <td>-0.075629</td>\n",
       "      <td>-0.976903</td>\n",
       "      <td>0.487684</td>\n",
       "      <td>0.709154</td>\n",
       "      <td>0.570756</td>\n",
       "      <td>-0.089286</td>\n",
       "      <td>-0.215960</td>\n",
       "      <td>-0.281232</td>\n",
       "    </tr>\n",
       "    <tr>\n",
       "      <th>34997</th>\n",
       "      <td>-1.565749</td>\n",
       "      <td>1.964559</td>\n",
       "      <td>0.844420</td>\n",
       "      <td>0.073650</td>\n",
       "      <td>0.176937</td>\n",
       "      <td>0.398413</td>\n",
       "      <td>0.239678</td>\n",
       "      <td>-1.537540</td>\n",
       "      <td>-0.650645</td>\n",
       "      <td>-1.207351</td>\n",
       "      <td>0.136792</td>\n",
       "      <td>0.055829</td>\n",
       "    </tr>\n",
       "    <tr>\n",
       "      <th>34998</th>\n",
       "      <td>1.505370</td>\n",
       "      <td>-1.434952</td>\n",
       "      <td>0.481802</td>\n",
       "      <td>-1.814601</td>\n",
       "      <td>0.605336</td>\n",
       "      <td>-0.273072</td>\n",
       "      <td>-0.227568</td>\n",
       "      <td>-1.028233</td>\n",
       "      <td>-0.726946</td>\n",
       "      <td>0.839408</td>\n",
       "      <td>0.129895</td>\n",
       "      <td>-0.874593</td>\n",
       "    </tr>\n",
       "    <tr>\n",
       "      <th>34999</th>\n",
       "      <td>-1.524392</td>\n",
       "      <td>-1.280277</td>\n",
       "      <td>0.676702</td>\n",
       "      <td>-1.029796</td>\n",
       "      <td>-0.181608</td>\n",
       "      <td>0.475233</td>\n",
       "      <td>0.104496</td>\n",
       "      <td>0.020915</td>\n",
       "      <td>-0.292906</td>\n",
       "      <td>-0.665881</td>\n",
       "      <td>0.150413</td>\n",
       "      <td>-0.618053</td>\n",
       "    </tr>\n",
       "  </tbody>\n",
       "</table>\n",
       "<p>35000 rows × 12 columns</p>\n",
       "</div>"
      ],
      "text/plain": [
       "            pc1       pc2       pc3       pc4       pc5       pc6       pc7  \\\n",
       "0     -1.196388  1.011413 -0.708417  1.190551 -0.707192  1.259696  0.395907   \n",
       "1     -1.026187 -0.515279  0.905952 -1.410787  0.083234 -0.901715 -0.263673   \n",
       "2     -1.099140 -0.560536 -0.090503 -0.354540 -0.369900  1.843396 -0.864509   \n",
       "3     -0.977958 -0.667145 -2.051049  0.458959  0.217149  0.012992 -0.642503   \n",
       "4      1.222311 -0.112041  0.203597  0.068124 -0.289260 -1.448974  0.026956   \n",
       "...         ...       ...       ...       ...       ...       ...       ...   \n",
       "34995 -0.131225  0.416822 -0.799778  0.821790 -0.390009  0.853042 -0.480115   \n",
       "34996 -2.126505 -1.266956 -0.077288  0.120613 -0.075629 -0.976903  0.487684   \n",
       "34997 -1.565749  1.964559  0.844420  0.073650  0.176937  0.398413  0.239678   \n",
       "34998  1.505370 -1.434952  0.481802 -1.814601  0.605336 -0.273072 -0.227568   \n",
       "34999 -1.524392 -1.280277  0.676702 -1.029796 -0.181608  0.475233  0.104496   \n",
       "\n",
       "            pc8       pc9      pc10      pc10      pc12  \n",
       "0      0.220195 -0.889885 -0.203701 -0.315645 -0.528016  \n",
       "1      0.078458  0.259970 -1.093910  1.116392 -0.096906  \n",
       "2      0.004460 -0.799378 -0.689311 -0.827599  0.528619  \n",
       "3     -0.832804  0.556027 -0.256149  0.424942  0.176050  \n",
       "4      1.646550  0.766665 -1.543066 -2.232970  0.535390  \n",
       "...         ...       ...       ...       ...       ...  \n",
       "34995  0.236524 -0.481117  0.369903  0.100377 -1.252491  \n",
       "34996  0.709154  0.570756 -0.089286 -0.215960 -0.281232  \n",
       "34997 -1.537540 -0.650645 -1.207351  0.136792  0.055829  \n",
       "34998 -1.028233 -0.726946  0.839408  0.129895 -0.874593  \n",
       "34999  0.020915 -0.292906 -0.665881  0.150413 -0.618053  \n",
       "\n",
       "[35000 rows x 12 columns]"
      ]
     },
     "metadata": {},
     "output_type": "display_data"
    }
   ],
   "source": [
    "#applying pca on training, labelled testing, and unlabelled testing set\n",
    "from sklearn.decomposition import PCA\n",
    "\n",
    "pca = PCA(n_components=12) \n",
    "\n",
    "pca_X_train = preprocessed_X_train.copy()  \n",
    "pca_X_train = pca.fit_transform(pca_X_train)\n",
    "pca_X_train = pd.DataFrame(data = pca_X_train, columns = ['pc1', 'pc2','pc3', 'pc4','pc5', 'pc6','pc7', 'pc8','pc9', 'pc10','pc10', 'pc12'])\n",
    "\n",
    "pca_X_test = pca.transform(preprocessed_X_test)\n",
    "pca_X_test = pd.DataFrame(pca_X_test, columns = ['pc1', 'pc2','pc3', 'pc4','pc5', 'pc6','pc7', 'pc8','pc9', 'pc10','pc10', 'pc12'])\n",
    "pca_prediction_X = pca.transform(prediction_X)\n",
    "pca_prediction_X = pd.DataFrame(pca_prediction_X, columns = ['pc1', 'pc2','pc3', 'pc4','pc5', 'pc6','pc7', 'pc8','pc9', 'pc10','pc10', 'pc12'])"
   ]
  },
  {
   "cell_type": "code",
   "execution_count": null,
   "id": "2b0b6a63",
   "metadata": {},
   "outputs": [],
   "source": [
    "# Performing classification using the pca-based transformed data"
   ]
  },
  {
   "cell_type": "code",
   "execution_count": 32,
   "id": "0f4b36d0",
   "metadata": {},
   "outputs": [
    {
     "name": "stdout",
     "output_type": "stream",
     "text": [
      "Accuracy =  0.44106666666666666\n"
     ]
    }
   ],
   "source": [
    "#Decision tree\n",
    "from sklearn.tree import DecisionTreeClassifier\n",
    "clf = DecisionTreeClassifier(max_depth=9) \n",
    "clf.fit(pca_X_train, y_train)\n",
    "print(\"Accuracy = \", accuracy_score(clf.predict(pca_X_test), y_test))"
   ]
  },
  {
   "cell_type": "code",
   "execution_count": 34,
   "id": "761c3c22",
   "metadata": {},
   "outputs": [
    {
     "name": "stdout",
     "output_type": "stream",
     "text": [
      "Accuracy =  0.5128\n"
     ]
    }
   ],
   "source": [
    "#Gradient boosting\n",
    "from sklearn.ensemble import GradientBoostingClassifier\n",
    "clf = GradientBoostingClassifier(max_depth=5) \n",
    "clf.fit(pca_X_train, y_train)\n",
    "print(\"Accuracy = \", accuracy_score(clf.predict(pca_X_test), y_test))"
   ]
  },
  {
   "cell_type": "code",
   "execution_count": 35,
   "id": "84053eb9",
   "metadata": {},
   "outputs": [
    {
     "name": "stdout",
     "output_type": "stream",
     "text": [
      "Accuracy =  0.5079333333333333\n"
     ]
    }
   ],
   "source": [
    "#random forest\n",
    "from sklearn.ensemble import RandomForestClassifier\n",
    "clf = RandomForestClassifier(max_depth=11) \n",
    "clf.fit(pca_X_train, y_train)\n",
    "print(\"Accuracy = \", accuracy_score(clf.predict(pca_X_test), y_test))"
   ]
  },
  {
   "cell_type": "code",
   "execution_count": 36,
   "id": "66e47eac",
   "metadata": {},
   "outputs": [
    {
     "name": "stdout",
     "output_type": "stream",
     "text": [
      "Accuracy =  0.5706\n"
     ]
    }
   ],
   "source": [
    "#MLP classifier\n",
    "from sklearn.neural_network import MLPClassifier\n",
    "clf = MLPClassifier(alpha=1e-6) \n",
    "clf.fit(pca_X_train, y_train)\n",
    "print(\"Accuracy = \", accuracy_score(clf.predict(pca_X_test), y_test))"
   ]
  },
  {
   "cell_type": "code",
   "execution_count": 37,
   "id": "54f82f5b",
   "metadata": {},
   "outputs": [
    {
     "name": "stdout",
     "output_type": "stream",
     "text": [
      "Accuracy =  0.5294666666666666\n"
     ]
    }
   ],
   "source": [
    "#logistic regression\n",
    "from sklearn.linear_model import LogisticRegression\n",
    "clf = LogisticRegression(C=20) \n",
    "clf.fit(pca_X_train, y_train)\n",
    "print(\"Accuracy = \", accuracy_score(clf.predict(pca_X_test), y_test))"
   ]
  },
  {
   "cell_type": "code",
   "execution_count": 38,
   "id": "0ac948d0",
   "metadata": {},
   "outputs": [
    {
     "name": "stdout",
     "output_type": "stream",
     "text": [
      "Accuracy =  0.39193333333333336\n"
     ]
    }
   ],
   "source": [
    "#gaussian NB\n",
    "from sklearn.naive_bayes import GaussianNB\n",
    "clf = GaussianNB(var_smoothing=0.1)\n",
    "clf.fit(pca_X_train, y_train)\n",
    "print(\"Accuracy = \", accuracy_score(clf.predict(pca_X_test), y_test))"
   ]
  },
  {
   "cell_type": "code",
   "execution_count": null,
   "id": "306c1f89",
   "metadata": {},
   "outputs": [],
   "source": []
  },
  {
   "cell_type": "code",
   "execution_count": null,
   "id": "bb182d4e",
   "metadata": {},
   "outputs": [],
   "source": []
  },
  {
   "cell_type": "code",
   "execution_count": null,
   "id": "7aeb132b",
   "metadata": {},
   "outputs": [],
   "source": []
  },
  {
   "cell_type": "code",
   "execution_count": 39,
   "id": "3800edb1",
   "metadata": {},
   "outputs": [
    {
     "data": {
      "text/html": [
       "<div>\n",
       "<style scoped>\n",
       "    .dataframe tbody tr th:only-of-type {\n",
       "        vertical-align: middle;\n",
       "    }\n",
       "\n",
       "    .dataframe tbody tr th {\n",
       "        vertical-align: top;\n",
       "    }\n",
       "\n",
       "    .dataframe thead th {\n",
       "        text-align: right;\n",
       "    }\n",
       "</style>\n",
       "<table border=\"1\" class=\"dataframe\">\n",
       "  <thead>\n",
       "    <tr style=\"text-align: right;\">\n",
       "      <th></th>\n",
       "      <th>ic1</th>\n",
       "      <th>ic2</th>\n",
       "      <th>ic3</th>\n",
       "      <th>ic4</th>\n",
       "      <th>ic5</th>\n",
       "      <th>ic6</th>\n",
       "      <th>ic7</th>\n",
       "      <th>ic8</th>\n",
       "      <th>ic9</th>\n",
       "      <th>ic10</th>\n",
       "      <th>ic10</th>\n",
       "      <th>ic12</th>\n",
       "    </tr>\n",
       "  </thead>\n",
       "  <tbody>\n",
       "    <tr>\n",
       "      <th>0</th>\n",
       "      <td>0.002482</td>\n",
       "      <td>-0.001973</td>\n",
       "      <td>-0.001654</td>\n",
       "      <td>0.003351</td>\n",
       "      <td>-0.002239</td>\n",
       "      <td>-0.008140</td>\n",
       "      <td>0.002012</td>\n",
       "      <td>0.008685</td>\n",
       "      <td>-0.000166</td>\n",
       "      <td>0.001689</td>\n",
       "      <td>-0.000888</td>\n",
       "      <td>-0.004186</td>\n",
       "    </tr>\n",
       "    <tr>\n",
       "      <th>1</th>\n",
       "      <td>0.001063</td>\n",
       "      <td>-0.004196</td>\n",
       "      <td>0.000697</td>\n",
       "      <td>0.003045</td>\n",
       "      <td>-0.001652</td>\n",
       "      <td>0.007553</td>\n",
       "      <td>0.004776</td>\n",
       "      <td>-0.005752</td>\n",
       "      <td>-0.000200</td>\n",
       "      <td>-0.003248</td>\n",
       "      <td>-0.002488</td>\n",
       "      <td>0.007528</td>\n",
       "    </tr>\n",
       "    <tr>\n",
       "      <th>2</th>\n",
       "      <td>0.004484</td>\n",
       "      <td>-0.001903</td>\n",
       "      <td>-0.002382</td>\n",
       "      <td>0.002563</td>\n",
       "      <td>0.003907</td>\n",
       "      <td>-0.007717</td>\n",
       "      <td>-0.000792</td>\n",
       "      <td>0.004389</td>\n",
       "      <td>-0.000350</td>\n",
       "      <td>-0.001431</td>\n",
       "      <td>0.006931</td>\n",
       "      <td>0.006900</td>\n",
       "    </tr>\n",
       "    <tr>\n",
       "      <th>3</th>\n",
       "      <td>0.000395</td>\n",
       "      <td>-0.002945</td>\n",
       "      <td>-0.003871</td>\n",
       "      <td>0.001175</td>\n",
       "      <td>0.002801</td>\n",
       "      <td>-0.007036</td>\n",
       "      <td>0.000418</td>\n",
       "      <td>-0.009111</td>\n",
       "      <td>-0.000252</td>\n",
       "      <td>-0.001867</td>\n",
       "      <td>-0.000870</td>\n",
       "      <td>-0.004106</td>\n",
       "    </tr>\n",
       "    <tr>\n",
       "      <th>4</th>\n",
       "      <td>0.013923</td>\n",
       "      <td>-0.003909</td>\n",
       "      <td>0.001962</td>\n",
       "      <td>-0.010643</td>\n",
       "      <td>0.004032</td>\n",
       "      <td>0.008527</td>\n",
       "      <td>-0.001746</td>\n",
       "      <td>0.003620</td>\n",
       "      <td>-0.000228</td>\n",
       "      <td>-0.004687</td>\n",
       "      <td>0.005731</td>\n",
       "      <td>-0.003516</td>\n",
       "    </tr>\n",
       "    <tr>\n",
       "      <th>...</th>\n",
       "      <td>...</td>\n",
       "      <td>...</td>\n",
       "      <td>...</td>\n",
       "      <td>...</td>\n",
       "      <td>...</td>\n",
       "      <td>...</td>\n",
       "      <td>...</td>\n",
       "      <td>...</td>\n",
       "      <td>...</td>\n",
       "      <td>...</td>\n",
       "      <td>...</td>\n",
       "      <td>...</td>\n",
       "    </tr>\n",
       "    <tr>\n",
       "      <th>34995</th>\n",
       "      <td>-0.001686</td>\n",
       "      <td>-0.002455</td>\n",
       "      <td>-0.000159</td>\n",
       "      <td>0.001388</td>\n",
       "      <td>-0.003210</td>\n",
       "      <td>-0.006624</td>\n",
       "      <td>0.004903</td>\n",
       "      <td>0.002764</td>\n",
       "      <td>-0.000183</td>\n",
       "      <td>0.006674</td>\n",
       "      <td>0.001677</td>\n",
       "      <td>-0.004275</td>\n",
       "    </tr>\n",
       "    <tr>\n",
       "      <th>34996</th>\n",
       "      <td>0.005300</td>\n",
       "      <td>0.003016</td>\n",
       "      <td>-0.002000</td>\n",
       "      <td>0.001683</td>\n",
       "      <td>0.002612</td>\n",
       "      <td>0.005627</td>\n",
       "      <td>0.005322</td>\n",
       "      <td>-0.002817</td>\n",
       "      <td>-0.000399</td>\n",
       "      <td>-0.000188</td>\n",
       "      <td>0.000357</td>\n",
       "      <td>-0.003938</td>\n",
       "    </tr>\n",
       "    <tr>\n",
       "      <th>34997</th>\n",
       "      <td>0.003712</td>\n",
       "      <td>-0.003665</td>\n",
       "      <td>-0.004440</td>\n",
       "      <td>0.001545</td>\n",
       "      <td>-0.006951</td>\n",
       "      <td>-0.003341</td>\n",
       "      <td>-0.004256</td>\n",
       "      <td>0.003767</td>\n",
       "      <td>-0.000371</td>\n",
       "      <td>-0.001264</td>\n",
       "      <td>-0.008702</td>\n",
       "      <td>0.007172</td>\n",
       "    </tr>\n",
       "    <tr>\n",
       "      <th>34998</th>\n",
       "      <td>-0.010146</td>\n",
       "      <td>0.000677</td>\n",
       "      <td>-0.005970</td>\n",
       "      <td>-0.002388</td>\n",
       "      <td>0.002504</td>\n",
       "      <td>0.004835</td>\n",
       "      <td>0.002470</td>\n",
       "      <td>-0.002549</td>\n",
       "      <td>-0.000098</td>\n",
       "      <td>0.006587</td>\n",
       "      <td>0.002209</td>\n",
       "      <td>0.007027</td>\n",
       "    </tr>\n",
       "    <tr>\n",
       "      <th>34999</th>\n",
       "      <td>0.001682</td>\n",
       "      <td>-0.000518</td>\n",
       "      <td>-0.003012</td>\n",
       "      <td>0.002804</td>\n",
       "      <td>0.002237</td>\n",
       "      <td>0.001890</td>\n",
       "      <td>0.007579</td>\n",
       "      <td>0.000669</td>\n",
       "      <td>-0.000089</td>\n",
       "      <td>0.001008</td>\n",
       "      <td>0.000514</td>\n",
       "      <td>0.007174</td>\n",
       "    </tr>\n",
       "  </tbody>\n",
       "</table>\n",
       "<p>35000 rows × 12 columns</p>\n",
       "</div>"
      ],
      "text/plain": [
       "            ic1       ic2       ic3       ic4       ic5       ic6       ic7  \\\n",
       "0      0.002482 -0.001973 -0.001654  0.003351 -0.002239 -0.008140  0.002012   \n",
       "1      0.001063 -0.004196  0.000697  0.003045 -0.001652  0.007553  0.004776   \n",
       "2      0.004484 -0.001903 -0.002382  0.002563  0.003907 -0.007717 -0.000792   \n",
       "3      0.000395 -0.002945 -0.003871  0.001175  0.002801 -0.007036  0.000418   \n",
       "4      0.013923 -0.003909  0.001962 -0.010643  0.004032  0.008527 -0.001746   \n",
       "...         ...       ...       ...       ...       ...       ...       ...   \n",
       "34995 -0.001686 -0.002455 -0.000159  0.001388 -0.003210 -0.006624  0.004903   \n",
       "34996  0.005300  0.003016 -0.002000  0.001683  0.002612  0.005627  0.005322   \n",
       "34997  0.003712 -0.003665 -0.004440  0.001545 -0.006951 -0.003341 -0.004256   \n",
       "34998 -0.010146  0.000677 -0.005970 -0.002388  0.002504  0.004835  0.002470   \n",
       "34999  0.001682 -0.000518 -0.003012  0.002804  0.002237  0.001890  0.007579   \n",
       "\n",
       "            ic8       ic9      ic10      ic10      ic12  \n",
       "0      0.008685 -0.000166  0.001689 -0.000888 -0.004186  \n",
       "1     -0.005752 -0.000200 -0.003248 -0.002488  0.007528  \n",
       "2      0.004389 -0.000350 -0.001431  0.006931  0.006900  \n",
       "3     -0.009111 -0.000252 -0.001867 -0.000870 -0.004106  \n",
       "4      0.003620 -0.000228 -0.004687  0.005731 -0.003516  \n",
       "...         ...       ...       ...       ...       ...  \n",
       "34995  0.002764 -0.000183  0.006674  0.001677 -0.004275  \n",
       "34996 -0.002817 -0.000399 -0.000188  0.000357 -0.003938  \n",
       "34997  0.003767 -0.000371 -0.001264 -0.008702  0.007172  \n",
       "34998 -0.002549 -0.000098  0.006587  0.002209  0.007027  \n",
       "34999  0.000669 -0.000089  0.001008  0.000514  0.007174  \n",
       "\n",
       "[35000 rows x 12 columns]"
      ]
     },
     "metadata": {},
     "output_type": "display_data"
    }
   ],
   "source": [
    "#applying ica on training, labelled testing, and unlabelled testing set\n",
    "from sklearn.decomposition import FastICA\n",
    "\n",
    "ica = FastICA(n_components=12) \n",
    "\n",
    "ica_X_train = preprocessed_X_train.copy()  \n",
    "ica_X_train = ica.fit_transform(ica_X_train)\n",
    "ica_X_train = pd.DataFrame(data = ica_X_train, columns = ['ic1', 'ic2','ic3', 'ic4','ic5', 'ic6','ic7', 'ic8','ic9', 'ic10','ic10', 'ic12'])\n",
    "\n",
    "ica_X_test = ica.transform(preprocessed_X_test)\n",
    "ica_X_test = pd.DataFrame(ica_X_test, columns = ['ic1', 'ic2','ic3', 'ic4','ic5', 'ic6','ic7', 'ic8','ic9', 'ic10','ic10', 'ic12'])\n",
    "ica_prediction_X = ica.transform(prediction_X)\n",
    "ica_prediction_X = pd.DataFrame(ica_prediction_X, columns = ['ic1', 'ic2','ic3', 'ic4','ic5', 'ic6','ic7', 'ic8','ic9', 'ic10','ic10', 'ic12'])"
   ]
  },
  {
   "cell_type": "code",
   "execution_count": null,
   "id": "24377f95",
   "metadata": {},
   "outputs": [],
   "source": [
    "# Performing classification using the pca-based transformed data\n"
   ]
  },
  {
   "cell_type": "code",
   "execution_count": 43,
   "id": "7f9f28bf",
   "metadata": {},
   "outputs": [
    {
     "name": "stdout",
     "output_type": "stream",
     "text": [
      "Accuracy =  0.4852\n"
     ]
    }
   ],
   "source": [
    "#decision tree\n",
    "from sklearn.tree import DecisionTreeClassifier\n",
    "clf = DecisionTreeClassifier(max_depth=9) \n",
    "clf.fit(ica_X_train, y_train)\n",
    "print(\"Accuracy = \", accuracy_score(clf.predict(ica_X_test), y_test))"
   ]
  },
  {
   "cell_type": "code",
   "execution_count": 44,
   "id": "e69f0b2d",
   "metadata": {},
   "outputs": [
    {
     "name": "stdout",
     "output_type": "stream",
     "text": [
      "Accuracy =  0.5518\n"
     ]
    }
   ],
   "source": [
    "#gradient boosting\n",
    "from sklearn.ensemble import GradientBoostingClassifier\n",
    "clf = GradientBoostingClassifier(max_depth=5) \n",
    "clf.fit(ica_X_train, y_train)\n",
    "print(\"Accuracy = \", accuracy_score(clf.predict(ica_X_test), y_test))"
   ]
  },
  {
   "cell_type": "code",
   "execution_count": 45,
   "id": "0b645639",
   "metadata": {},
   "outputs": [
    {
     "name": "stdout",
     "output_type": "stream",
     "text": [
      "Accuracy =  0.5483333333333333\n"
     ]
    }
   ],
   "source": [
    "#random forest\n",
    "from sklearn.ensemble import RandomForestClassifier\n",
    "clf = RandomForestClassifier(max_depth=11) \n",
    "clf.fit(ica_X_train, y_train)\n",
    "print(\"Accuracy = \", accuracy_score(clf.predict(ica_X_test), y_test))"
   ]
  },
  {
   "cell_type": "code",
   "execution_count": 46,
   "id": "8e9b3169",
   "metadata": {},
   "outputs": [
    {
     "name": "stdout",
     "output_type": "stream",
     "text": [
      "Accuracy =  0.5345333333333333\n"
     ]
    }
   ],
   "source": [
    "#MLP Classifier\n",
    "from sklearn.neural_network import MLPClassifier\n",
    "clf = MLPClassifier(alpha=1e-6) \n",
    "clf.fit(ica_X_train, y_train)\n",
    "print(\"Accuracy = \", accuracy_score(clf.predict(ica_X_test), y_test))"
   ]
  },
  {
   "cell_type": "code",
   "execution_count": 47,
   "id": "aaa703cc",
   "metadata": {},
   "outputs": [
    {
     "name": "stdout",
     "output_type": "stream",
     "text": [
      "Accuracy =  0.48313333333333336\n"
     ]
    }
   ],
   "source": [
    "#Logistic regression\n",
    "from sklearn.linear_model import LogisticRegression\n",
    "clf = LogisticRegression(C=20) \n",
    "clf.fit(ica_X_train, y_train)\n",
    "print(\"Accuracy = \", accuracy_score(clf.predict(ica_X_test), y_test))"
   ]
  },
  {
   "cell_type": "code",
   "execution_count": 48,
   "id": "fac85999",
   "metadata": {},
   "outputs": [
    {
     "name": "stdout",
     "output_type": "stream",
     "text": [
      "Accuracy =  0.3828\n"
     ]
    }
   ],
   "source": [
    "#Gaussian NB\n",
    "from sklearn.naive_bayes import GaussianNB\n",
    "clf = GaussianNB(var_smoothing=0.1)\n",
    "clf.fit(ica_X_train, y_train)\n",
    "print(\"Accuracy = \", accuracy_score(clf.predict(ica_X_test), y_test))"
   ]
  },
  {
   "cell_type": "code",
   "execution_count": null,
   "id": "0c913aaa",
   "metadata": {},
   "outputs": [],
   "source": []
  },
  {
   "cell_type": "code",
   "execution_count": null,
   "id": "949f2b12",
   "metadata": {},
   "outputs": [],
   "source": []
  },
  {
   "cell_type": "code",
   "execution_count": null,
   "id": "3760a393",
   "metadata": {},
   "outputs": [],
   "source": []
  },
  {
   "cell_type": "code",
   "execution_count": null,
   "id": "8f03e18c",
   "metadata": {},
   "outputs": [],
   "source": []
  },
  {
   "cell_type": "code",
   "execution_count": 49,
   "id": "80889de9",
   "metadata": {},
   "outputs": [
    {
     "name": "stdout",
     "output_type": "stream",
     "text": [
      "Requirement already satisfied: gplearn in c:\\users\\mjmof\\anaconda3\\lib\\site-packages (0.4.1)\n",
      "Requirement already satisfied: scikit-learn>=0.20.0 in c:\\users\\mjmof\\anaconda3\\lib\\site-packages (from gplearn) (0.24.1)\n",
      "Requirement already satisfied: joblib>=0.13.0 in c:\\users\\mjmof\\anaconda3\\lib\\site-packages (from gplearn) (1.0.1)\n",
      "Requirement already satisfied: threadpoolctl>=2.0.0 in c:\\users\\mjmof\\anaconda3\\lib\\site-packages (from scikit-learn>=0.20.0->gplearn) (2.1.0)\n",
      "Requirement already satisfied: numpy>=1.13.3 in c:\\users\\mjmof\\anaconda3\\lib\\site-packages (from scikit-learn>=0.20.0->gplearn) (1.20.1)\n",
      "Requirement already satisfied: scipy>=0.19.1 in c:\\users\\mjmof\\anaconda3\\lib\\site-packages (from scikit-learn>=0.20.0->gplearn) (1.6.2)\n"
     ]
    }
   ],
   "source": [
    "!pip install gplearn"
   ]
  },
  {
   "cell_type": "code",
   "execution_count": 68,
   "id": "3b72c633",
   "metadata": {},
   "outputs": [
    {
     "data": {
      "text/html": [
       "<div>\n",
       "<style scoped>\n",
       "    .dataframe tbody tr th:only-of-type {\n",
       "        vertical-align: middle;\n",
       "    }\n",
       "\n",
       "    .dataframe tbody tr th {\n",
       "        vertical-align: top;\n",
       "    }\n",
       "\n",
       "    .dataframe thead th {\n",
       "        text-align: right;\n",
       "    }\n",
       "</style>\n",
       "<table border=\"1\" class=\"dataframe\">\n",
       "  <thead>\n",
       "    <tr style=\"text-align: right;\">\n",
       "      <th></th>\n",
       "      <th>gp1</th>\n",
       "      <th>gp2</th>\n",
       "      <th>gp3</th>\n",
       "      <th>gp4</th>\n",
       "      <th>gp5</th>\n",
       "    </tr>\n",
       "  </thead>\n",
       "  <tbody>\n",
       "    <tr>\n",
       "      <th>0</th>\n",
       "      <td>0.564371</td>\n",
       "      <td>0.564371</td>\n",
       "      <td>0.564371</td>\n",
       "      <td>0.564371</td>\n",
       "      <td>0.564371</td>\n",
       "    </tr>\n",
       "    <tr>\n",
       "      <th>1</th>\n",
       "      <td>0.821074</td>\n",
       "      <td>0.821074</td>\n",
       "      <td>0.821074</td>\n",
       "      <td>0.821074</td>\n",
       "      <td>0.821074</td>\n",
       "    </tr>\n",
       "    <tr>\n",
       "      <th>2</th>\n",
       "      <td>0.756898</td>\n",
       "      <td>0.756898</td>\n",
       "      <td>0.756898</td>\n",
       "      <td>0.756898</td>\n",
       "      <td>0.756898</td>\n",
       "    </tr>\n",
       "    <tr>\n",
       "      <th>3</th>\n",
       "      <td>-0.013211</td>\n",
       "      <td>-0.013211</td>\n",
       "      <td>-0.013211</td>\n",
       "      <td>-0.013211</td>\n",
       "      <td>-0.013211</td>\n",
       "    </tr>\n",
       "    <tr>\n",
       "      <th>4</th>\n",
       "      <td>0.371844</td>\n",
       "      <td>0.371844</td>\n",
       "      <td>0.371844</td>\n",
       "      <td>0.371844</td>\n",
       "      <td>0.371844</td>\n",
       "    </tr>\n",
       "    <tr>\n",
       "      <th>...</th>\n",
       "      <td>...</td>\n",
       "      <td>...</td>\n",
       "      <td>...</td>\n",
       "      <td>...</td>\n",
       "      <td>...</td>\n",
       "    </tr>\n",
       "    <tr>\n",
       "      <th>34995</th>\n",
       "      <td>0.371844</td>\n",
       "      <td>0.371844</td>\n",
       "      <td>0.371844</td>\n",
       "      <td>0.371844</td>\n",
       "      <td>0.371844</td>\n",
       "    </tr>\n",
       "    <tr>\n",
       "      <th>34996</th>\n",
       "      <td>1.847886</td>\n",
       "      <td>1.847886</td>\n",
       "      <td>1.847886</td>\n",
       "      <td>1.847886</td>\n",
       "      <td>1.847886</td>\n",
       "    </tr>\n",
       "    <tr>\n",
       "      <th>34997</th>\n",
       "      <td>0.243492</td>\n",
       "      <td>0.243492</td>\n",
       "      <td>0.243492</td>\n",
       "      <td>0.243492</td>\n",
       "      <td>0.243492</td>\n",
       "    </tr>\n",
       "    <tr>\n",
       "      <th>34998</th>\n",
       "      <td>-0.654969</td>\n",
       "      <td>-0.654969</td>\n",
       "      <td>-0.654969</td>\n",
       "      <td>-0.654969</td>\n",
       "      <td>-0.654969</td>\n",
       "    </tr>\n",
       "    <tr>\n",
       "      <th>34999</th>\n",
       "      <td>1.141953</td>\n",
       "      <td>1.141953</td>\n",
       "      <td>1.141953</td>\n",
       "      <td>1.141953</td>\n",
       "      <td>1.141953</td>\n",
       "    </tr>\n",
       "  </tbody>\n",
       "</table>\n",
       "<p>35000 rows × 5 columns</p>\n",
       "</div>"
      ],
      "text/plain": [
       "            gp1       gp2       gp3       gp4       gp5\n",
       "0      0.564371  0.564371  0.564371  0.564371  0.564371\n",
       "1      0.821074  0.821074  0.821074  0.821074  0.821074\n",
       "2      0.756898  0.756898  0.756898  0.756898  0.756898\n",
       "3     -0.013211 -0.013211 -0.013211 -0.013211 -0.013211\n",
       "4      0.371844  0.371844  0.371844  0.371844  0.371844\n",
       "...         ...       ...       ...       ...       ...\n",
       "34995  0.371844  0.371844  0.371844  0.371844  0.371844\n",
       "34996  1.847886  1.847886  1.847886  1.847886  1.847886\n",
       "34997  0.243492  0.243492  0.243492  0.243492  0.243492\n",
       "34998 -0.654969 -0.654969 -0.654969 -0.654969 -0.654969\n",
       "34999  1.141953  1.141953  1.141953  1.141953  1.141953\n",
       "\n",
       "[35000 rows x 5 columns]"
      ]
     },
     "metadata": {},
     "output_type": "display_data"
    }
   ],
   "source": [
    "#applying gp on training, labelled testing, and unlabelled testing set\n",
    "from gplearn.genetic import SymbolicTransformer\n",
    "\n",
    "gp = SymbolicTransformer(n_components=5)\n",
    "\n",
    "gp_X_train = preprocessed_X_train.copy()  \n",
    "gp_X_train = gp.fit_transform(gp_X_train, LabelEncoder().fit_transform(y_train.values.reshape(-1,1)))\n",
    "gp_X_train = pd.DataFrame(data = gp_X_train, columns = ['gp1', 'gp2','gp3', 'gp4','gp5'])\n",
    "\n",
    "gp_X_test = gp.transform(preprocessed_X_test)\n",
    "gp_X_test = pd.DataFrame(gp_X_test, columns = ['gp1', 'gp2','gp3', 'gp4','gp5'])\n",
    "gp_prediction_X = gp.transform(prediction_X)\n",
    "gp_prediction_X = pd.DataFrame(gp_prediction_X, columns = ['gp1', 'gp2','gp3', 'gp4','gp5'])"
   ]
  },
  {
   "cell_type": "code",
   "execution_count": 54,
   "id": "cc7b1730",
   "metadata": {},
   "outputs": [
    {
     "name": "stdout",
     "output_type": "stream",
     "text": [
      "Accuracy =  0.2894\n"
     ]
    }
   ],
   "source": [
    "#decision tree\n",
    "from sklearn.tree import DecisionTreeClassifier\n",
    "clf = DecisionTreeClassifier(max_depth=9) \n",
    "clf.fit(gp_X_train, y_train)\n",
    "print(\"Accuracy = \", accuracy_score(clf.predict(gp_X_test), y_test))"
   ]
  },
  {
   "cell_type": "code",
   "execution_count": 55,
   "id": "2ff4aeff",
   "metadata": {},
   "outputs": [
    {
     "name": "stdout",
     "output_type": "stream",
     "text": [
      "Accuracy =  0.2782\n"
     ]
    }
   ],
   "source": [
    "#gradient boosting\n",
    "from sklearn.ensemble import GradientBoostingClassifier\n",
    "clf = GradientBoostingClassifier(max_depth=5) \n",
    "clf.fit(gp_X_train, y_train)\n",
    "print(\"Accuracy = \", accuracy_score(clf.predict(gp_X_test), y_test))"
   ]
  },
  {
   "cell_type": "code",
   "execution_count": 56,
   "id": "cb99937b",
   "metadata": {},
   "outputs": [
    {
     "name": "stdout",
     "output_type": "stream",
     "text": [
      "Accuracy =  0.2783333333333333\n"
     ]
    }
   ],
   "source": [
    "#random forest\n",
    "from sklearn.ensemble import RandomForestClassifier\n",
    "clf = RandomForestClassifier(max_depth=11) \n",
    "clf.fit(gp_X_train, y_train)\n",
    "print(\"Accuracy = \", accuracy_score(clf.predict(gp_X_test), y_test))"
   ]
  },
  {
   "cell_type": "code",
   "execution_count": 69,
   "id": "03010d8a",
   "metadata": {},
   "outputs": [
    {
     "name": "stdout",
     "output_type": "stream",
     "text": [
      "Accuracy =  0.3024\n"
     ]
    }
   ],
   "source": [
    "#MLP classifier\n",
    "from sklearn.neural_network import MLPClassifier\n",
    "clf = MLPClassifier(alpha=1e-6) \n",
    "clf.fit(gp_X_train, y_train)\n",
    "print(\"Accuracy = \", accuracy_score(clf.predict(gp_X_test), y_test))"
   ]
  },
  {
   "cell_type": "code",
   "execution_count": 58,
   "id": "55265525",
   "metadata": {},
   "outputs": [
    {
     "name": "stdout",
     "output_type": "stream",
     "text": [
      "Accuracy =  0.2576\n"
     ]
    }
   ],
   "source": [
    "#Logistic regression\n",
    "from sklearn.linear_model import LogisticRegression\n",
    "clf = LogisticRegression(C=20) \n",
    "clf.fit(gp_X_train, y_train)\n",
    "print(\"Accuracy = \", accuracy_score(clf.predict(gp_X_test), y_test))"
   ]
  },
  {
   "cell_type": "code",
   "execution_count": 59,
   "id": "d0b3e43c",
   "metadata": {},
   "outputs": [
    {
     "name": "stdout",
     "output_type": "stream",
     "text": [
      "Accuracy =  0.28326666666666667\n"
     ]
    }
   ],
   "source": [
    "#Gaussian NB\n",
    "from sklearn.naive_bayes import GaussianNB\n",
    "clf = GaussianNB(var_smoothing=0.1)\n",
    "clf.fit(gp_X_train, y_train)\n",
    "print(\"Accuracy = \", accuracy_score(clf.predict(gp_X_test), y_test))"
   ]
  },
  {
   "cell_type": "code",
   "execution_count": null,
   "id": "00ac8c75",
   "metadata": {},
   "outputs": [],
   "source": []
  },
  {
   "cell_type": "code",
   "execution_count": null,
   "id": "e6f3a888",
   "metadata": {},
   "outputs": [],
   "source": []
  },
  {
   "cell_type": "code",
   "execution_count": null,
   "id": "8ef88422",
   "metadata": {},
   "outputs": [],
   "source": [
    "#Findin the scores of diffrenet classifier using variety of values for their key parameter on different sets of input"
   ]
  },
  {
   "cell_type": "code",
   "execution_count": 70,
   "id": "4d736f7b",
   "metadata": {},
   "outputs": [],
   "source": [
    "from sklearn.neighbors import KNeighborsClassifier\n",
    "from sklearn.naive_bayes import GaussianNB\n",
    "from sklearn.tree import DecisionTreeClassifier\n",
    "from sklearn.linear_model import LogisticRegression\n",
    "from sklearn.ensemble import GradientBoostingClassifier\n",
    "from sklearn.ensemble import RandomForestClassifier\n",
    "from sklearn.neural_network import MLPClassifier"
   ]
  },
  {
   "cell_type": "code",
   "execution_count": 71,
   "id": "abf2e22d",
   "metadata": {},
   "outputs": [],
   "source": [
    "names = [\"KNeighborsClassifier\", \"GaussianNB\",\"Logistic Regression\",\n",
    "         \"Decision Tree\", \"GradientBoosting\", \"Random Forest\",\n",
    "         \"MLP\"]\n",
    "\n",
    "controllerNames = [\"n_neighbors\", \"var_smoothing\",\n",
    "         \"C\", \"max_depth\", \"max_depth\",\n",
    "         \"max_depth\", \"alpha\"]\n",
    "\n",
    "controllers = [\n",
    "    [1,2,3,4,5],\n",
    "    [1e-9,1e-5,1e-1],\n",
    "    [.1,.5,1.0,2.0, 5.0],\n",
    "    [1,2,3,4,5,6,7,8,9,10],\n",
    "    [1,2,3,4,5,6,7,8,9,10],\n",
    "    [1,2,3,4,5,6,7,8,9,10],\n",
    "    [1e-5, 1e-3,0.1, 10.0]\n",
    "]"
   ]
  },
  {
   "cell_type": "code",
   "execution_count": 72,
   "id": "558cb12a",
   "metadata": {},
   "outputs": [],
   "source": [
    "def classifierFinder(v, i):\n",
    "    if v==0:\n",
    "        return KNeighborsClassifier(n_neighbors=i)\n",
    "    if v==1:\n",
    "        return GaussianNB(var_smoothing=i)\n",
    "    if v==2:\n",
    "        return LogisticRegression(C=i) \n",
    "    if v==3:\n",
    "        return DecisionTreeClassifier(max_depth=i+1) \n",
    "    if v==4:\n",
    "        return GradientBoostingClassifier(max_depth=i+1) \n",
    "    if v==5:\n",
    "        return RandomForestClassifier(max_depth=i+1) \n",
    "    if v==6:\n",
    "        return MLPClassifier(alpha=i) "
   ]
  },
  {
   "cell_type": "code",
   "execution_count": 74,
   "id": "43f45664",
   "metadata": {},
   "outputs": [
    {
     "name": "stdout",
     "output_type": "stream",
     "text": [
      "[0.41413333333333335, 0.41733333333333333, 0.44566666666666666, 0.46946666666666664, 0.4846]\n",
      "[0.37046666666666667, 0.3734, 0.408]\n",
      "[0.5374, 0.5368666666666667, 0.5371333333333334, 0.5371333333333334, 0.5370666666666667]\n",
      "[0.3166, 0.3698666666666667, 0.4169333333333333, 0.4716666666666667, 0.49273333333333336, 0.5117333333333334, 0.5202666666666667, 0.5234, 0.5213333333333333, 0.5181333333333333]\n",
      "[0.5696666666666667, 0.5811333333333333, 0.5811333333333333, 0.5754, 0.5749333333333333, 0.5647333333333333, 0.5566, 0.5554666666666667, 0.5542, 0.553]\n",
      "[0.41313333333333335, 0.4688, 0.5014, 0.5252666666666667, 0.5382, 0.5564666666666667, 0.5612, 0.5653333333333334, 0.5714, 0.5712666666666667]\n",
      "[0.5855333333333334, 0.5867333333333333, 0.5876666666666667, 0.5015333333333334]\n"
     ]
    }
   ],
   "source": [
    "predictions = []\n",
    "for ctrl_cnt, ctrl in enumerate(controllers):\n",
    "    cls_predictions = []\n",
    "    for i in ctrl:\n",
    "            clf = classifierFinder(ctrl_cnt, i)\n",
    "            clf.fit(preprocessed_X_train, y_train)\n",
    "            score=accuracy_score(clf.predict(preprocessed_X_test), y_test)\n",
    "            cls_predictions.append(score)\n",
    "    print(cls_predictions)\n",
    "    "
   ]
  },
  {
   "cell_type": "code",
   "execution_count": 75,
   "id": "29a34b6b",
   "metadata": {},
   "outputs": [
    {
     "name": "stdout",
     "output_type": "stream",
     "text": [
      "[0.40386666666666665, 0.4023333333333333, 0.43106666666666665, 0.4554, 0.4629333333333333]\n",
      "[0.4178, 0.4178, 0.39193333333333336]\n",
      "[0.5127333333333334, 0.5182666666666667, 0.5215333333333333, 0.5255333333333333, 0.5276666666666666]\n",
      "[0.24633333333333332, 0.3132666666666667, 0.3542666666666667, 0.39026666666666665, 0.4129333333333333, 0.42606666666666665, 0.4312, 0.4401333333333333, 0.4446, 0.453]\n",
      "[0.4962666666666667, 0.51, 0.5067333333333334, 0.5136666666666667, 0.5068, 0.5082666666666666, 0.5056666666666667, 0.4988, 0.5021333333333333, 0.4966]\n",
      "[0.4032, 0.4182, 0.4358666666666667, 0.45526666666666665, 0.4686, 0.4788, 0.48833333333333334, 0.4975333333333333, 0.5039333333333333, 0.5074]\n",
      "[0.5722, 0.5706666666666667, 0.5680666666666667, 0.4938666666666667]\n"
     ]
    }
   ],
   "source": [
    "predictions = []\n",
    "for ctrl_cnt, ctrl in enumerate(controllers):\n",
    "    cls_predictions = []\n",
    "    for i in ctrl:\n",
    "            clf = classifierFinder(ctrl_cnt, i)\n",
    "            clf.fit(pca_X_train, y_train)\n",
    "            score=accuracy_score(clf.predict(pca_X_test), y_test)\n",
    "            cls_predictions.append(score)\n",
    "    print(cls_predictions)\n",
    "    "
   ]
  },
  {
   "cell_type": "code",
   "execution_count": 76,
   "id": "7096502c",
   "metadata": {},
   "outputs": [
    {
     "name": "stdout",
     "output_type": "stream",
     "text": [
      "[0.4063333333333333, 0.40413333333333334, 0.4305333333333333, 0.4563333333333333, 0.46686666666666665]\n",
      "[0.377, 0.37633333333333335, 0.3828]\n",
      "[0.4441333333333333, 0.44606666666666667, 0.44953333333333334, 0.4548, 0.46653333333333336]\n",
      "[0.231, 0.2975333333333333, 0.36046666666666666, 0.40726666666666667, 0.42806666666666665, 0.4486, 0.4738, 0.4852666666666667, 0.4962666666666667, 0.4991333333333333]\n",
      "[0.5346, 0.5457333333333333, 0.5501333333333334, 0.5462, 0.5396, 0.5365333333333333, 0.5328666666666667, 0.5330666666666667, 0.5305333333333333, 0.527]\n",
      "[0.3868666666666667, 0.42933333333333334, 0.4604666666666667, 0.4849333333333333, 0.5013333333333333, 0.5194, 0.5277333333333334, 0.5326666666666666, 0.5386666666666666, 0.5459333333333334]\n",
      "[0.5326666666666666, 0.5315333333333333, 0.45726666666666665, 0.1]\n"
     ]
    }
   ],
   "source": [
    "predictions = []\n",
    "for ctrl_cnt, ctrl in enumerate(controllers):\n",
    "    cls_predictions = []\n",
    "    for i in ctrl:\n",
    "            clf = classifierFinder(ctrl_cnt, i)\n",
    "            clf.fit(ica_X_train, y_train)\n",
    "            score=accuracy_score(clf.predict(ica_X_test), y_test)\n",
    "            cls_predictions.append(score)\n",
    "    print(cls_predictions)\n",
    "    "
   ]
  },
  {
   "cell_type": "code",
   "execution_count": null,
   "id": "3d5d6cc5",
   "metadata": {},
   "outputs": [],
   "source": []
  },
  {
   "cell_type": "code",
   "execution_count": null,
   "id": "2a83b25a",
   "metadata": {},
   "outputs": [],
   "source": []
  },
  {
   "cell_type": "code",
   "execution_count": null,
   "id": "874a9779",
   "metadata": {},
   "outputs": [],
   "source": [
    "#Saving the prediciton to a csv file for submission\n",
    "prediction_y = clf.predict(prediction_X)\n",
    "prediction = pd.DataFrame(prediction_X.index+1,prediction_y)\n",
    "display(prediction)\n",
    "prediction.to_csv('answer.csv')"
   ]
  }
 ],
 "metadata": {
  "kernelspec": {
   "display_name": "Python 3",
   "language": "python",
   "name": "python3"
  },
  "language_info": {
   "codemirror_mode": {
    "name": "ipython",
    "version": 3
   },
   "file_extension": ".py",
   "mimetype": "text/x-python",
   "name": "python",
   "nbconvert_exporter": "python",
   "pygments_lexer": "ipython3",
   "version": "3.8.8"
  }
 },
 "nbformat": 4,
 "nbformat_minor": 5
}
